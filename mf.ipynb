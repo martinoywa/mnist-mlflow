{
 "cells": [
  {
   "cell_type": "code",
   "execution_count": 1,
   "id": "initial_id",
   "metadata": {
    "collapsed": true,
    "ExecuteTime": {
     "end_time": "2023-08-09T12:20:06.216002118Z",
     "start_time": "2023-08-09T12:19:53.139545690Z"
    }
   },
   "outputs": [],
   "source": [
    "import mlflow\n",
    "\n",
    "from sklearn.model_selection import train_test_split\n",
    "from sklearn.datasets import load_diabetes\n",
    "from sklearn.ensemble import RandomForestRegressor"
   ]
  },
  {
   "cell_type": "code",
   "execution_count": 6,
   "outputs": [
    {
     "name": "stderr",
     "output_type": "stream",
     "text": [
      "2023/08/09 15:23:50 INFO mlflow.tracking.fluent: Experiment with name 'mlfow-tutorial' does not exist. Creating a new experiment.\n",
      "2023/08/09 15:23:50 INFO mlflow.tracking.fluent: Autologging successfully enabled for sklearn.\n"
     ]
    }
   ],
   "source": [
    "mlflow.set_experiment(\"mlfow-tutorial\")\n",
    "mlflow.set_tracking_uri(\"http://127.0.0.1:5000\")\n",
    "mlflow.autolog()"
   ],
   "metadata": {
    "collapsed": false,
    "ExecuteTime": {
     "end_time": "2023-08-09T12:23:50.849918334Z",
     "start_time": "2023-08-09T12:23:50.740745454Z"
    }
   },
   "id": "91e7597010f7d0cc"
  },
  {
   "cell_type": "code",
   "execution_count": 7,
   "outputs": [
    {
     "name": "stderr",
     "output_type": "stream",
     "text": [
      "2023/08/09 15:23:51 INFO mlflow.utils.autologging_utils: Created MLflow autologging run with ID '0442e38664bf4e9e8955084c325d7491', which will track hyperparameters, performance metrics, model artifacts, and lineage information for the current sklearn workflow\n"
     ]
    }
   ],
   "source": [
    "# training\n",
    "db = load_diabetes()\n",
    "X_train, X_test, y_train, y_test = train_test_split(db.data, db.target)\n",
    "\n",
    "# Create and train models.\n",
    "rf = RandomForestRegressor(n_estimators=100, max_depth=6, max_features=3)\n",
    "rf.fit(X_train, y_train)\n",
    "\n",
    "# Use the model to make predictions on the test dataset.\n",
    "predictions = rf.predict(X_test)"
   ],
   "metadata": {
    "collapsed": false,
    "ExecuteTime": {
     "end_time": "2023-08-09T12:23:53.082903089Z",
     "start_time": "2023-08-09T12:23:51.824512048Z"
    }
   },
   "id": "c89ba2c14f55e9f6"
  },
  {
   "cell_type": "code",
   "execution_count": 14,
   "outputs": [],
   "source": [
    "# inference\n",
    "model = mlflow.sklearn.load_model(\"models:/tutorial/1\")\n",
    "preds = model.predict(X_test)"
   ],
   "metadata": {
    "collapsed": false,
    "ExecuteTime": {
     "end_time": "2023-08-09T12:40:06.783378239Z",
     "start_time": "2023-08-09T12:40:06.621677702Z"
    }
   },
   "id": "d8717607a9f7d563"
  },
  {
   "cell_type": "code",
   "execution_count": 15,
   "outputs": [
    {
     "name": "stdout",
     "output_type": "stream",
     "text": [
      "[ 88.75347474 104.3610858  122.4307929   90.65093917 148.23878602\n",
      "  93.51235949  93.10719057 114.30906167  94.64503839 118.34930952\n",
      " 118.32370777 176.15639622 119.64425359 115.14530908 276.01696997\n",
      " 221.99741553  86.91345192 114.87664715  83.08229857  99.6094815\n",
      " 167.25852534  91.99292888  98.00433729 170.28543587  99.70616803\n",
      " 213.5645336  260.649697   256.54665831  80.22756087 276.11791163\n",
      "  86.43583516 141.61055277  82.10550533 103.73311613 104.9449212\n",
      "  98.03544737 150.23824929 173.88992206  94.80841204 221.22706798\n",
      " 171.2304802   93.93254651  98.54104272 152.43828143 135.56765729\n",
      " 141.44723226 170.5990054   96.53348282 142.97002462 164.8545448\n",
      " 121.86320806 208.19970044 157.8958956  188.07440872 138.11238916\n",
      " 210.14892332 231.30257154 195.00188764 173.45217573 157.16203221\n",
      " 145.04580208 154.70800897 211.71980236 217.6019127  183.96708854\n",
      "  99.52832909 215.33427012 249.50537346 245.47432523 111.01225618\n",
      "  85.4230661  114.87781171 228.64468214 105.89386391 192.00941612\n",
      "  97.70985058 171.73121586 159.11831012 184.7784286  220.99747983\n",
      "  95.11785508 104.03114036 190.16476609 147.44566856 174.18113889\n",
      " 182.46257299 111.29090291 146.02231245 252.77007789 133.21600432\n",
      " 143.31045771 198.2719767  180.86908103 124.86313723  84.49667442\n",
      " 165.31058347 130.36978592  77.77162549  99.00711657  88.73457989\n",
      " 112.59268603 204.3283519  225.26676732  79.19585701 130.74914817\n",
      "  90.04175955 132.29361482 105.86845024 168.99210104 119.41931053\n",
      " 115.76668894]\n"
     ]
    }
   ],
   "source": [
    "print(preds)"
   ],
   "metadata": {
    "collapsed": false,
    "ExecuteTime": {
     "end_time": "2023-08-09T12:58:03.311555098Z",
     "start_time": "2023-08-09T12:58:03.269127043Z"
    }
   },
   "id": "b0b360f918c768bf"
  },
  {
   "cell_type": "code",
   "execution_count": null,
   "outputs": [],
   "source": [],
   "metadata": {
    "collapsed": false
   },
   "id": "6f9e2db6ed859634"
  }
 ],
 "metadata": {
  "kernelspec": {
   "display_name": "Python 3",
   "language": "python",
   "name": "python3"
  },
  "language_info": {
   "codemirror_mode": {
    "name": "ipython",
    "version": 2
   },
   "file_extension": ".py",
   "mimetype": "text/x-python",
   "name": "python",
   "nbconvert_exporter": "python",
   "pygments_lexer": "ipython2",
   "version": "2.7.6"
  }
 },
 "nbformat": 4,
 "nbformat_minor": 5
}
